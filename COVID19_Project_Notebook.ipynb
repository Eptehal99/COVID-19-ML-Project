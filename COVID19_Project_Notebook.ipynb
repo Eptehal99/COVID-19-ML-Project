{
 "cells": [
  {
   "cell_type": "markdown",
   "id": "cb5276fd",
   "metadata": {},
   "source": [
    "### Problem Statement - Predicting \n",
    "Target Variable > i3_health\n",
    "Predictor Variables > symptoms (i5_health_1, i5_health_2, i5_health_3, i5_health_4, i5_health_5) and covid-19 exposure (i4_health, i12_health_5)"
   ]
  },
  {
   "cell_type": "markdown",
   "id": "fd253ff5",
   "metadata": {},
   "source": [
    "### Importing Libraries & Packages"
   ]
  },
  {
   "cell_type": "code",
   "execution_count": 1,
   "id": "0bac4ec0",
   "metadata": {
    "id": "0bac4ec0"
   },
   "outputs": [],
   "source": [
    "import numpy as np\n",
    "import pandas as pd\n",
    "\n",
    "import scipy\n",
    "import seaborn as sns\n",
    "import matplotlib.pyplot as plt\n",
    "\n",
    "import urllib\n",
    "import sklearn\n",
    "from sklearn.neighbors import KNeighborsClassifier\n",
    "from sklearn import neighbors\n",
    "from sklearn import preprocessing\n",
    "from sklearn.model_selection import train_test_split\n",
    "\n",
    "from sklearn import metrics\n",
    "from sklearn.metrics import accuracy_score"
   ]
  },
  {
   "cell_type": "code",
   "execution_count": 59,
   "id": "dfc894be",
   "metadata": {
    "colab": {
     "base_uri": "https://localhost:8080/"
    },
    "collapsed": true,
    "id": "dfc894be",
    "outputId": "dc8284d9-98c6-4ce7-c77d-b726dbfbe6f2"
   },
   "outputs": [
    {
     "name": "stdout",
     "output_type": "stream",
     "text": [
      "Looking in indexes: https://pypi.org/simple, https://us-python.pkg.dev/colab-wheels/public/simple/\n",
      "Requirement already satisfied: scikit-learn in /usr/local/lib/python3.7/dist-packages (1.0.2)\n",
      "Requirement already satisfied: scipy>=1.1.0 in /usr/local/lib/python3.7/dist-packages (from scikit-learn) (1.7.3)\n",
      "Requirement already satisfied: joblib>=0.11 in /usr/local/lib/python3.7/dist-packages (from scikit-learn) (1.2.0)\n",
      "Requirement already satisfied: threadpoolctl>=2.0.0 in /usr/local/lib/python3.7/dist-packages (from scikit-learn) (3.1.0)\n",
      "Requirement already satisfied: numpy>=1.14.6 in /usr/local/lib/python3.7/dist-packages (from scikit-learn) (1.21.6)\n"
     ]
    }
   ],
   "source": [
    "!pip install -U scikit-learn"
   ]
  },
  {
   "cell_type": "code",
   "execution_count": 2,
   "id": "fc21af32",
   "metadata": {
    "id": "fc21af32"
   },
   "outputs": [],
   "source": [
    "np.set_printoptions(precision=4, suppress=True)\n",
    "%matplotlib inline\n",
    "plt.style.use('seaborn-whitegrid')"
   ]
  },
  {
   "cell_type": "markdown",
   "id": "fbb0401f",
   "metadata": {
    "id": "fbb0401f"
   },
   "source": [
    "## Data Preprocessing"
   ]
  },
  {
   "cell_type": "code",
   "execution_count": 3,
   "id": "546f28e7",
   "metadata": {
    "id": "546f28e7"
   },
   "outputs": [],
   "source": [
    "# read the dataset\n",
    "covid = pd.read_csv('COVID-19BehaviorData_CAN_USA.csv')"
   ]
  },
  {
   "cell_type": "code",
   "execution_count": 4,
   "id": "1c38e8d3",
   "metadata": {
    "colab": {
     "base_uri": "https://localhost:8080/"
    },
    "id": "1c38e8d3",
    "outputId": "b2da2376-a0a8-4c00-e691-e1f6c0f8b0bb",
    "scrolled": true
   },
   "outputs": [
    {
     "name": "stdout",
     "output_type": "stream",
     "text": [
      "<class 'pandas.core.frame.DataFrame'>\n",
      "RangeIndex: 28825 entries, 0 to 28824\n",
      "Data columns (total 79 columns):\n",
      " #   Column              Non-Null Count  Dtype  \n",
      "---  ------              --------------  -----  \n",
      " 0   Index               28825 non-null  int64  \n",
      " 1   RecordNo            28825 non-null  object \n",
      " 2   endtime             28825 non-null  object \n",
      " 3   qweek               28825 non-null  object \n",
      " 4   i1_health           28825 non-null  int64  \n",
      " 5   i2_health           28825 non-null  int64  \n",
      " 6   i7a_health          28825 non-null  int64  \n",
      " 7   i3_health           28825 non-null  object \n",
      " 8   i4_health           28825 non-null  object \n",
      " 9   i5_health_1         28825 non-null  object \n",
      " 10  i5_health_2         28825 non-null  object \n",
      " 11  i5_health_3         28825 non-null  object \n",
      " 12  i5_health_4         28825 non-null  object \n",
      " 13  i5_health_5         28825 non-null  object \n",
      " 14  i5_health_99        28825 non-null  object \n",
      " 15  i5a_health          28825 non-null  object \n",
      " 16  i6_health           28825 non-null  object \n",
      " 17  i7b_health          28825 non-null  object \n",
      " 18  i8_health           28825 non-null  object \n",
      " 19  i9_health           28825 non-null  object \n",
      " 20  i10_health          28825 non-null  object \n",
      " 21  i11_health          28825 non-null  object \n",
      " 22  i12_health_1        28825 non-null  object \n",
      " 23  i12_health_2        28825 non-null  object \n",
      " 24  i12_health_3        28825 non-null  object \n",
      " 25  i12_health_4        28825 non-null  object \n",
      " 26  i12_health_5        28825 non-null  object \n",
      " 27  i12_health_6        28825 non-null  object \n",
      " 28  i12_health_7        28825 non-null  object \n",
      " 29  i12_health_8        28825 non-null  object \n",
      " 30  i12_health_9        28825 non-null  object \n",
      " 31  i12_health_10       28825 non-null  object \n",
      " 32  i12_health_11       28825 non-null  object \n",
      " 33  i12_health_12       28825 non-null  object \n",
      " 34  i12_health_13       28825 non-null  object \n",
      " 35  i12_health_14       28825 non-null  object \n",
      " 36  i12_health_15       28825 non-null  object \n",
      " 37  i12_health_16       28825 non-null  object \n",
      " 38  i12_health_17       28825 non-null  object \n",
      " 39  i12_health_18       28825 non-null  object \n",
      " 40  i12_health_19       28825 non-null  object \n",
      " 41  i12_health_20       28825 non-null  object \n",
      " 42  i13_health          28825 non-null  int64  \n",
      " 43  i14_health_1        28825 non-null  object \n",
      " 44  i14_health_2        28825 non-null  object \n",
      " 45  i14_health_3        28825 non-null  object \n",
      " 46  i14_health_4        28825 non-null  object \n",
      " 47  i14_health_5        28825 non-null  object \n",
      " 48  i14_health_6        28825 non-null  object \n",
      " 49  i14_health_7        28825 non-null  object \n",
      " 50  i14_health_8        28825 non-null  object \n",
      " 51  i14_health_9        28825 non-null  object \n",
      " 52  i14_health_10       28825 non-null  object \n",
      " 53  i14_health_96       28825 non-null  object \n",
      " 54  i14_health_98       28825 non-null  object \n",
      " 55  i14_health_99       28825 non-null  object \n",
      " 56  i14_health_other    28825 non-null  object \n",
      " 57  d1_health_1         28825 non-null  object \n",
      " 58  d1_health_2         28825 non-null  object \n",
      " 59  d1_health_3         28825 non-null  object \n",
      " 60  d1_health_4         28825 non-null  object \n",
      " 61  d1_health_5         28825 non-null  object \n",
      " 62  d1_health_6         28825 non-null  object \n",
      " 63  d1_health_7         28825 non-null  object \n",
      " 64  d1_health_8         28825 non-null  object \n",
      " 65  d1_health_9         28825 non-null  object \n",
      " 66  d1_health_10        28825 non-null  object \n",
      " 67  d1_health_11        28825 non-null  object \n",
      " 68  d1_health_12        28825 non-null  object \n",
      " 69  d1_health_13        28825 non-null  object \n",
      " 70  d1_health_98        28825 non-null  object \n",
      " 71  d1_health_99        28825 non-null  object \n",
      " 72  weight              28825 non-null  float64\n",
      " 73  gender              28825 non-null  object \n",
      " 74  age                 28825 non-null  int64  \n",
      " 75  region_state        28825 non-null  object \n",
      " 76  household_size      28825 non-null  object \n",
      " 77  household_children  28825 non-null  object \n",
      " 78  employment_status   28825 non-null  object \n",
      "dtypes: float64(1), int64(6), object(72)\n",
      "memory usage: 17.4+ MB\n"
     ]
    }
   ],
   "source": [
    "covid.info()"
   ]
  },
  {
   "cell_type": "code",
   "execution_count": 5,
   "id": "5da40922",
   "metadata": {
    "colab": {
     "base_uri": "https://localhost:8080/",
     "height": 490
    },
    "collapsed": true,
    "id": "5da40922",
    "outputId": "a1bea57e-dfed-4a34-b4cb-260e2b63fabf"
   },
   "outputs": [
    {
     "data": {
      "text/html": [
       "<div>\n",
       "<style scoped>\n",
       "    .dataframe tbody tr th:only-of-type {\n",
       "        vertical-align: middle;\n",
       "    }\n",
       "\n",
       "    .dataframe tbody tr th {\n",
       "        vertical-align: top;\n",
       "    }\n",
       "\n",
       "    .dataframe thead th {\n",
       "        text-align: right;\n",
       "    }\n",
       "</style>\n",
       "<table border=\"1\" class=\"dataframe\">\n",
       "  <thead>\n",
       "    <tr style=\"text-align: right;\">\n",
       "      <th></th>\n",
       "      <th>Index</th>\n",
       "      <th>RecordNo</th>\n",
       "      <th>endtime</th>\n",
       "      <th>qweek</th>\n",
       "      <th>i1_health</th>\n",
       "      <th>i2_health</th>\n",
       "      <th>i7a_health</th>\n",
       "      <th>i3_health</th>\n",
       "      <th>i4_health</th>\n",
       "      <th>i5_health_1</th>\n",
       "      <th>...</th>\n",
       "      <th>d1_health_13</th>\n",
       "      <th>d1_health_98</th>\n",
       "      <th>d1_health_99</th>\n",
       "      <th>weight</th>\n",
       "      <th>gender</th>\n",
       "      <th>age</th>\n",
       "      <th>region_state</th>\n",
       "      <th>household_size</th>\n",
       "      <th>household_children</th>\n",
       "      <th>employment_status</th>\n",
       "    </tr>\n",
       "  </thead>\n",
       "  <tbody>\n",
       "    <tr>\n",
       "      <th>0</th>\n",
       "      <td>0</td>\n",
       "      <td>CAN0</td>\n",
       "      <td>02/04/2020 08:25</td>\n",
       "      <td>week 1</td>\n",
       "      <td>0</td>\n",
       "      <td>1</td>\n",
       "      <td>1</td>\n",
       "      <td>No, I have not</td>\n",
       "      <td>No, they have not</td>\n",
       "      <td>No</td>\n",
       "      <td>...</td>\n",
       "      <td>No</td>\n",
       "      <td>No</td>\n",
       "      <td>No</td>\n",
       "      <td>1.036370</td>\n",
       "      <td>Male</td>\n",
       "      <td>73</td>\n",
       "      <td>British Columbia / Colombie Britanique</td>\n",
       "      <td>1</td>\n",
       "      <td>0</td>\n",
       "      <td>Retired</td>\n",
       "    </tr>\n",
       "    <tr>\n",
       "      <th>1</th>\n",
       "      <td>1</td>\n",
       "      <td>CAN1</td>\n",
       "      <td>02/04/2020 08:34</td>\n",
       "      <td>week 1</td>\n",
       "      <td>0</td>\n",
       "      <td>6</td>\n",
       "      <td>0</td>\n",
       "      <td>No, I have not</td>\n",
       "      <td>No, they have not</td>\n",
       "      <td>Yes</td>\n",
       "      <td>...</td>\n",
       "      <td>No</td>\n",
       "      <td>No</td>\n",
       "      <td>Yes</td>\n",
       "      <td>1.016961</td>\n",
       "      <td>Female</td>\n",
       "      <td>37</td>\n",
       "      <td>British Columbia / Colombie Britanique</td>\n",
       "      <td>1</td>\n",
       "      <td>0</td>\n",
       "      <td>Unemployed</td>\n",
       "    </tr>\n",
       "    <tr>\n",
       "      <th>2</th>\n",
       "      <td>2</td>\n",
       "      <td>CAN2</td>\n",
       "      <td>02/04/2020 08:44</td>\n",
       "      <td>week 1</td>\n",
       "      <td>6</td>\n",
       "      <td>1</td>\n",
       "      <td>0</td>\n",
       "      <td>No, I have not</td>\n",
       "      <td>No, they have not</td>\n",
       "      <td>No</td>\n",
       "      <td>...</td>\n",
       "      <td>No</td>\n",
       "      <td>No</td>\n",
       "      <td>No</td>\n",
       "      <td>1.003516</td>\n",
       "      <td>Male</td>\n",
       "      <td>25</td>\n",
       "      <td>Ontario</td>\n",
       "      <td>8 or more</td>\n",
       "      <td>2</td>\n",
       "      <td>Full time employment</td>\n",
       "    </tr>\n",
       "    <tr>\n",
       "      <th>3</th>\n",
       "      <td>3</td>\n",
       "      <td>CAN3</td>\n",
       "      <td>02/04/2020 08:44</td>\n",
       "      <td>week 1</td>\n",
       "      <td>1</td>\n",
       "      <td>1</td>\n",
       "      <td>1</td>\n",
       "      <td>No, I have not</td>\n",
       "      <td>No, they have not</td>\n",
       "      <td>No</td>\n",
       "      <td>...</td>\n",
       "      <td>No</td>\n",
       "      <td>No</td>\n",
       "      <td>No</td>\n",
       "      <td>1.002949</td>\n",
       "      <td>Male</td>\n",
       "      <td>66</td>\n",
       "      <td>Ontario</td>\n",
       "      <td>2</td>\n",
       "      <td>0</td>\n",
       "      <td>Retired</td>\n",
       "    </tr>\n",
       "    <tr>\n",
       "      <th>4</th>\n",
       "      <td>4</td>\n",
       "      <td>CAN4</td>\n",
       "      <td>02/04/2020 09:00</td>\n",
       "      <td>week 1</td>\n",
       "      <td>1</td>\n",
       "      <td>3</td>\n",
       "      <td>1</td>\n",
       "      <td>No, I have not</td>\n",
       "      <td>No, they have not</td>\n",
       "      <td>No</td>\n",
       "      <td>...</td>\n",
       "      <td>No</td>\n",
       "      <td>No</td>\n",
       "      <td>Yes</td>\n",
       "      <td>1.028216</td>\n",
       "      <td>Female</td>\n",
       "      <td>25</td>\n",
       "      <td>British Columbia / Colombie Britanique</td>\n",
       "      <td>2</td>\n",
       "      <td>0</td>\n",
       "      <td>Unemployed</td>\n",
       "    </tr>\n",
       "  </tbody>\n",
       "</table>\n",
       "<p>5 rows × 79 columns</p>\n",
       "</div>"
      ],
      "text/plain": [
       "   Index RecordNo           endtime   qweek  i1_health  i2_health  i7a_health  \\\n",
       "0      0     CAN0  02/04/2020 08:25  week 1          0          1           1   \n",
       "1      1     CAN1  02/04/2020 08:34  week 1          0          6           0   \n",
       "2      2     CAN2  02/04/2020 08:44  week 1          6          1           0   \n",
       "3      3     CAN3  02/04/2020 08:44  week 1          1          1           1   \n",
       "4      4     CAN4  02/04/2020 09:00  week 1          1          3           1   \n",
       "\n",
       "        i3_health          i4_health i5_health_1  ... d1_health_13  \\\n",
       "0  No, I have not  No, they have not          No  ...           No   \n",
       "1  No, I have not  No, they have not         Yes  ...           No   \n",
       "2  No, I have not  No, they have not          No  ...           No   \n",
       "3  No, I have not  No, they have not          No  ...           No   \n",
       "4  No, I have not  No, they have not          No  ...           No   \n",
       "\n",
       "  d1_health_98 d1_health_99    weight  gender age  \\\n",
       "0           No           No  1.036370    Male  73   \n",
       "1           No          Yes  1.016961  Female  37   \n",
       "2           No           No  1.003516    Male  25   \n",
       "3           No           No  1.002949    Male  66   \n",
       "4           No          Yes  1.028216  Female  25   \n",
       "\n",
       "                             region_state household_size household_children  \\\n",
       "0  British Columbia / Colombie Britanique              1                  0   \n",
       "1  British Columbia / Colombie Britanique              1                  0   \n",
       "2                                 Ontario      8 or more                  2   \n",
       "3                                 Ontario              2                  0   \n",
       "4  British Columbia / Colombie Britanique              2                  0   \n",
       "\n",
       "      employment_status  \n",
       "0               Retired  \n",
       "1            Unemployed  \n",
       "2  Full time employment  \n",
       "3               Retired  \n",
       "4            Unemployed  \n",
       "\n",
       "[5 rows x 79 columns]"
      ]
     },
     "execution_count": 5,
     "metadata": {},
     "output_type": "execute_result"
    }
   ],
   "source": [
    "covid.head()"
   ]
  },
  {
   "cell_type": "code",
   "execution_count": 6,
   "id": "e1893762",
   "metadata": {
    "id": "e1893762"
   },
   "outputs": [],
   "source": [
    "#dropping unnecessary columns\n",
    "covid.drop(columns=['Index','endtime','qweek', 'i1_health','i2_health','i7a_health', 'i5_health_99', 'i5a_health', 'i6_health', 'i7b_health', 'i8_health', 'i9_health', 'i10_health', 'i11_health', 'i12_health_1','i12_health_2','i12_health_3','i12_health_4', 'i12_health_6', 'i12_health_7', 'i12_health_8', 'i12_health_9','i12_health_10', 'i12_health_11', 'i12_health_12','i12_health_13','i12_health_14','i12_health_15','i12_health_16','i12_health_19', 'i12_health_20', 'i13_health','i14_health_1','i14_health_2','i14_health_3','i14_health_4','i14_health_5','i14_health_6','i14_health_7','i14_health_8','i14_health_9','i14_health_10','i14_health_96','i14_health_98','i14_health_99','i14_health_other','d1_health_1', 'd1_health_2','d1_health_3', 'd1_health_4','d1_health_5','d1_health_6','d1_health_7','d1_health_8','d1_health_9','d1_health_10','d1_health_11','d1_health_12','d1_health_13','d1_health_98','d1_health_99','weight','age','gender','household_size','household_children','employment_status','i12_health_17','i12_health_18'], inplace=True)"
   ]
  },
  {
   "cell_type": "code",
   "execution_count": 7,
   "id": "2b0a4ecf",
   "metadata": {
    "colab": {
     "base_uri": "https://localhost:8080/",
     "height": 206
    },
    "id": "2b0a4ecf",
    "outputId": "9b11165d-e0ba-4d3f-8288-8038b194bb5b"
   },
   "outputs": [
    {
     "data": {
      "text/html": [
       "<div>\n",
       "<style scoped>\n",
       "    .dataframe tbody tr th:only-of-type {\n",
       "        vertical-align: middle;\n",
       "    }\n",
       "\n",
       "    .dataframe tbody tr th {\n",
       "        vertical-align: top;\n",
       "    }\n",
       "\n",
       "    .dataframe thead th {\n",
       "        text-align: right;\n",
       "    }\n",
       "</style>\n",
       "<table border=\"1\" class=\"dataframe\">\n",
       "  <thead>\n",
       "    <tr style=\"text-align: right;\">\n",
       "      <th></th>\n",
       "      <th>RecordNo</th>\n",
       "      <th>i3_health</th>\n",
       "      <th>i4_health</th>\n",
       "      <th>i5_health_1</th>\n",
       "      <th>i5_health_2</th>\n",
       "      <th>i5_health_3</th>\n",
       "      <th>i5_health_4</th>\n",
       "      <th>i5_health_5</th>\n",
       "      <th>i12_health_5</th>\n",
       "      <th>region_state</th>\n",
       "    </tr>\n",
       "  </thead>\n",
       "  <tbody>\n",
       "    <tr>\n",
       "      <th>0</th>\n",
       "      <td>CAN0</td>\n",
       "      <td>No, I have not</td>\n",
       "      <td>No, they have not</td>\n",
       "      <td>No</td>\n",
       "      <td>No</td>\n",
       "      <td>No</td>\n",
       "      <td>No</td>\n",
       "      <td>No</td>\n",
       "      <td>Always</td>\n",
       "      <td>British Columbia / Colombie Britanique</td>\n",
       "    </tr>\n",
       "    <tr>\n",
       "      <th>1</th>\n",
       "      <td>CAN1</td>\n",
       "      <td>No, I have not</td>\n",
       "      <td>No, they have not</td>\n",
       "      <td>Yes</td>\n",
       "      <td>No</td>\n",
       "      <td>No</td>\n",
       "      <td>No</td>\n",
       "      <td>No</td>\n",
       "      <td>Not at all</td>\n",
       "      <td>British Columbia / Colombie Britanique</td>\n",
       "    </tr>\n",
       "    <tr>\n",
       "      <th>2</th>\n",
       "      <td>CAN2</td>\n",
       "      <td>No, I have not</td>\n",
       "      <td>No, they have not</td>\n",
       "      <td>No</td>\n",
       "      <td>No</td>\n",
       "      <td>No</td>\n",
       "      <td>No</td>\n",
       "      <td>Yes</td>\n",
       "      <td>Always</td>\n",
       "      <td>Ontario</td>\n",
       "    </tr>\n",
       "    <tr>\n",
       "      <th>3</th>\n",
       "      <td>CAN3</td>\n",
       "      <td>No, I have not</td>\n",
       "      <td>No, they have not</td>\n",
       "      <td>No</td>\n",
       "      <td>No</td>\n",
       "      <td>No</td>\n",
       "      <td>No</td>\n",
       "      <td>No</td>\n",
       "      <td>Always</td>\n",
       "      <td>Ontario</td>\n",
       "    </tr>\n",
       "    <tr>\n",
       "      <th>4</th>\n",
       "      <td>CAN4</td>\n",
       "      <td>No, I have not</td>\n",
       "      <td>No, they have not</td>\n",
       "      <td>No</td>\n",
       "      <td>No</td>\n",
       "      <td>No</td>\n",
       "      <td>No</td>\n",
       "      <td>No</td>\n",
       "      <td>Always</td>\n",
       "      <td>British Columbia / Colombie Britanique</td>\n",
       "    </tr>\n",
       "  </tbody>\n",
       "</table>\n",
       "</div>"
      ],
      "text/plain": [
       "  RecordNo       i3_health          i4_health i5_health_1 i5_health_2  \\\n",
       "0     CAN0  No, I have not  No, they have not          No          No   \n",
       "1     CAN1  No, I have not  No, they have not         Yes          No   \n",
       "2     CAN2  No, I have not  No, they have not          No          No   \n",
       "3     CAN3  No, I have not  No, they have not          No          No   \n",
       "4     CAN4  No, I have not  No, they have not          No          No   \n",
       "\n",
       "  i5_health_3 i5_health_4 i5_health_5 i12_health_5  \\\n",
       "0          No          No          No       Always   \n",
       "1          No          No          No   Not at all   \n",
       "2          No          No         Yes       Always   \n",
       "3          No          No          No       Always   \n",
       "4          No          No          No       Always   \n",
       "\n",
       "                             region_state  \n",
       "0  British Columbia / Colombie Britanique  \n",
       "1  British Columbia / Colombie Britanique  \n",
       "2                                 Ontario  \n",
       "3                                 Ontario  \n",
       "4  British Columbia / Colombie Britanique  "
      ]
     },
     "execution_count": 7,
     "metadata": {},
     "output_type": "execute_result"
    }
   ],
   "source": [
    "covid.head()"
   ]
  },
  {
   "cell_type": "code",
   "execution_count": 8,
   "id": "d47933db",
   "metadata": {
    "id": "d47933db"
   },
   "outputs": [],
   "source": [
    "#filtering focusing on those who tested either positive or negative\n",
    "covid = covid[covid['i3_health'].str.contains(\"No, I have not|Yes, and I have not received my results from the test yet\")==False]"
   ]
  },
  {
   "cell_type": "code",
   "execution_count": 9,
   "id": "4505bd58",
   "metadata": {
    "id": "4505bd58"
   },
   "outputs": [],
   "source": [
    "#filtering\n",
    "covid = covid[covid['i4_health'].str.contains(\"Not sure|No, they have not|Yes, and they have not received their results from the test yet\")==False]"
   ]
  },
  {
   "cell_type": "code",
   "execution_count": 10,
   "id": "8a117754",
   "metadata": {
    "colab": {
     "base_uri": "https://localhost:8080/",
     "height": 1000
    },
    "id": "8a117754",
    "outputId": "3b83d5b6-bfbb-4d82-c2a9-811bc69eb48b"
   },
   "outputs": [
    {
     "data": {
      "text/html": [
       "<div>\n",
       "<style scoped>\n",
       "    .dataframe tbody tr th:only-of-type {\n",
       "        vertical-align: middle;\n",
       "    }\n",
       "\n",
       "    .dataframe tbody tr th {\n",
       "        vertical-align: top;\n",
       "    }\n",
       "\n",
       "    .dataframe thead th {\n",
       "        text-align: right;\n",
       "    }\n",
       "</style>\n",
       "<table border=\"1\" class=\"dataframe\">\n",
       "  <thead>\n",
       "    <tr style=\"text-align: right;\">\n",
       "      <th></th>\n",
       "      <th>RecordNo</th>\n",
       "      <th>i3_health</th>\n",
       "      <th>i4_health</th>\n",
       "      <th>i5_health_1</th>\n",
       "      <th>i5_health_2</th>\n",
       "      <th>i5_health_3</th>\n",
       "      <th>i5_health_4</th>\n",
       "      <th>i5_health_5</th>\n",
       "      <th>i12_health_5</th>\n",
       "      <th>region_state</th>\n",
       "    </tr>\n",
       "  </thead>\n",
       "  <tbody>\n",
       "    <tr>\n",
       "      <th>103</th>\n",
       "      <td>CAN103</td>\n",
       "      <td>Yes, and I tested negative</td>\n",
       "      <td>Yes, and they tested negative</td>\n",
       "      <td>No</td>\n",
       "      <td>No</td>\n",
       "      <td>No</td>\n",
       "      <td>No</td>\n",
       "      <td>No</td>\n",
       "      <td>Frequently</td>\n",
       "      <td>Quebec / Québec</td>\n",
       "    </tr>\n",
       "    <tr>\n",
       "      <th>110</th>\n",
       "      <td>CAN110</td>\n",
       "      <td>Yes, and I tested negative</td>\n",
       "      <td>Yes, and they tested negative</td>\n",
       "      <td>No</td>\n",
       "      <td>No</td>\n",
       "      <td>No</td>\n",
       "      <td>Yes</td>\n",
       "      <td>No</td>\n",
       "      <td>Rarely</td>\n",
       "      <td>Quebec / Québec</td>\n",
       "    </tr>\n",
       "    <tr>\n",
       "      <th>127</th>\n",
       "      <td>CAN127</td>\n",
       "      <td>Yes, and I tested negative</td>\n",
       "      <td>Yes, and they tested negative</td>\n",
       "      <td>No</td>\n",
       "      <td>No</td>\n",
       "      <td>No</td>\n",
       "      <td>No</td>\n",
       "      <td>No</td>\n",
       "      <td>Always</td>\n",
       "      <td>Ontario</td>\n",
       "    </tr>\n",
       "    <tr>\n",
       "      <th>134</th>\n",
       "      <td>CAN134</td>\n",
       "      <td>Yes, and I tested negative</td>\n",
       "      <td>Yes, and they tested negative</td>\n",
       "      <td>No</td>\n",
       "      <td>No</td>\n",
       "      <td>No</td>\n",
       "      <td>No</td>\n",
       "      <td>No</td>\n",
       "      <td>Frequently</td>\n",
       "      <td>Ontario</td>\n",
       "    </tr>\n",
       "    <tr>\n",
       "      <th>193</th>\n",
       "      <td>CAN193</td>\n",
       "      <td>Yes, and I tested negative</td>\n",
       "      <td>Yes, and they tested negative</td>\n",
       "      <td>Yes</td>\n",
       "      <td>Yes</td>\n",
       "      <td>No</td>\n",
       "      <td>No</td>\n",
       "      <td>No</td>\n",
       "      <td>Always</td>\n",
       "      <td>Quebec / Québec</td>\n",
       "    </tr>\n",
       "  </tbody>\n",
       "</table>\n",
       "</div>"
      ],
      "text/plain": [
       "    RecordNo                   i3_health                      i4_health  \\\n",
       "103   CAN103  Yes, and I tested negative  Yes, and they tested negative   \n",
       "110   CAN110  Yes, and I tested negative  Yes, and they tested negative   \n",
       "127   CAN127  Yes, and I tested negative  Yes, and they tested negative   \n",
       "134   CAN134  Yes, and I tested negative  Yes, and they tested negative   \n",
       "193   CAN193  Yes, and I tested negative  Yes, and they tested negative   \n",
       "\n",
       "    i5_health_1 i5_health_2 i5_health_3 i5_health_4 i5_health_5 i12_health_5  \\\n",
       "103          No          No          No          No          No   Frequently   \n",
       "110          No          No          No         Yes          No       Rarely   \n",
       "127          No          No          No          No          No       Always   \n",
       "134          No          No          No          No          No   Frequently   \n",
       "193         Yes         Yes          No          No          No       Always   \n",
       "\n",
       "        region_state  \n",
       "103  Quebec / Québec  \n",
       "110  Quebec / Québec  \n",
       "127          Ontario  \n",
       "134          Ontario  \n",
       "193  Quebec / Québec  "
      ]
     },
     "execution_count": 10,
     "metadata": {},
     "output_type": "execute_result"
    }
   ],
   "source": [
    "covid.head()"
   ]
  },
  {
   "cell_type": "code",
   "execution_count": 11,
   "id": "64d9906e",
   "metadata": {
    "colab": {
     "base_uri": "https://localhost:8080/"
    },
    "id": "64d9906e",
    "outputId": "74c52833-00d1-4993-9592-6e4d00bcab86"
   },
   "outputs": [
    {
     "name": "stdout",
     "output_type": "stream",
     "text": [
      "<class 'pandas.core.frame.DataFrame'>\n",
      "Int64Index: 1420 entries, 103 to 28824\n",
      "Data columns (total 10 columns):\n",
      " #   Column        Non-Null Count  Dtype \n",
      "---  ------        --------------  ----- \n",
      " 0   RecordNo      1420 non-null   object\n",
      " 1   i3_health     1420 non-null   object\n",
      " 2   i4_health     1420 non-null   object\n",
      " 3   i5_health_1   1420 non-null   object\n",
      " 4   i5_health_2   1420 non-null   object\n",
      " 5   i5_health_3   1420 non-null   object\n",
      " 6   i5_health_4   1420 non-null   object\n",
      " 7   i5_health_5   1420 non-null   object\n",
      " 8   i12_health_5  1420 non-null   object\n",
      " 9   region_state  1420 non-null   object\n",
      "dtypes: object(10)\n",
      "memory usage: 122.0+ KB\n"
     ]
    }
   ],
   "source": [
    "covid.info()"
   ]
  },
  {
   "cell_type": "code",
   "execution_count": 15,
   "id": "57643a71",
   "metadata": {
    "colab": {
     "base_uri": "https://localhost:8080/"
    },
    "id": "57643a71",
    "outputId": "4ebba12b-7a6a-441f-a4b6-ba08aa95391c"
   },
   "outputs": [
    {
     "data": {
      "text/plain": [
       "Yes, and I tested negative    931\n",
       "Yes, and I tested positive    231\n",
       "Name: i3_health, dtype: int64"
      ]
     },
     "execution_count": 15,
     "metadata": {},
     "output_type": "execute_result"
    }
   ],
   "source": [
    "#inspecting number of records\n",
    "covid['i3_health'].value_counts()"
   ]
  },
  {
   "cell_type": "code",
   "execution_count": 17,
   "id": "aoPs769yWnOn",
   "metadata": {
    "id": "aoPs769yWnOn"
   },
   "outputs": [],
   "source": [
    "#dropping missing values \n",
    "covid.drop(covid[covid['i3_health'] == \" \"].index, inplace = True)"
   ]
  },
  {
   "cell_type": "markdown",
   "id": "7bc1fe6a",
   "metadata": {},
   "source": [
    "### Exploratory Data Analysis"
   ]
  },
  {
   "cell_type": "code",
   "execution_count": 18,
   "id": "EOdr4mmJLyhU",
   "metadata": {
    "colab": {
     "base_uri": "https://localhost:8080/",
     "height": 481
    },
    "id": "EOdr4mmJLyhU",
    "outputId": "39a9bb22-efbb-431e-df42-5bdf9e0fcf07"
   },
   "outputs": [
    {
     "data": {
      "image/png": "[encoded data removed]",
      "text/plain": [
       "<Figure size 864x576 with 1 Axes>"
      ]
     },
     "metadata": {},
     "output_type": "display_data"
    }
   ],
   "source": [
    "#pie chart\n",
    "plt.figure(figsize=(12,8))\n",
    "myexplode = [0.2, 0 ]\n",
    "plt.pie(covid['i3_health'].value_counts().values, labels =covid['i3_health'].value_counts().keys(), autopct='%1.1f%%',explode = myexplode,shadow = True,colors = ( \"lightgreen\", \"Red\"))\n",
    "plt.title(\"Have you tested for Coronavirus?\")\n",
    "plt.legend()\n",
    "plt.show() "
   ]
  },
  {
   "cell_type": "code",
   "execution_count": 20,
   "id": "A4SEJeH1LlNu",
   "metadata": {
    "id": "A4SEJeH1LlNu"
   },
   "outputs": [],
   "source": [
    "#converting strings to numeric values to reduce memory consumption and increase code efficiency \n",
    "\n",
    "covid['i3_health'].replace(['Yes, and I tested negative', 'Yes, and I tested positive'],\n",
    "                        [0, 1], inplace=True)"
   ]
  },
  {
   "cell_type": "code",
   "execution_count": 22,
   "id": "ff3da3b7",
   "metadata": {
    "colab": {
     "base_uri": "https://localhost:8080/"
    },
    "id": "ff3da3b7",
    "outputId": "4431971a-7fe3-42ef-c518-d70b50d3869b"
   },
   "outputs": [
    {
     "data": {
      "text/plain": [
       "Yes, and they tested negative    884\n",
       "Yes, and they tested positive    184\n",
       "                                  94\n",
       "Name: i4_health, dtype: int64"
      ]
     },
     "execution_count": 22,
     "metadata": {},
     "output_type": "execute_result"
    }
   ],
   "source": [
    "#inspecting number of records\n",
    "covid['i4_health'].value_counts()"
   ]
  },
  {
   "cell_type": "code",
   "execution_count": 23,
   "id": "8a0d546d",
   "metadata": {
    "id": "8a0d546d"
   },
   "outputs": [],
   "source": [
    "#dropping missing values\n",
    "covid.drop(covid[covid['i4_health'] == \" \"].index, inplace = True)"
   ]
  },
  {
   "cell_type": "code",
   "execution_count": 24,
   "id": "ffadbb9a",
   "metadata": {
    "colab": {
     "base_uri": "https://localhost:8080/",
     "height": 481
    },
    "id": "ffadbb9a",
    "outputId": "2477a20a-8bf0-484c-ed8c-c6060b013d98"
   },
   "outputs": [
    {
     "data": {
      "image/png": "[encoded data removed]",
      "text/plain": [
       "<Figure size 864x576 with 1 Axes>"
      ]
     },
     "metadata": {},
     "output_type": "display_data"
    }
   ],
   "source": [
    "#pie chart showing whether the individual has come into close contact with someone who has covid\n",
    "plt.figure(figsize=(12,8))\n",
    "myexplode = [0.2, 0 ]\n",
    "plt.pie(covid['i4_health'].value_counts().values, labels =covid['i4_health'].value_counts().keys(), autopct='%1.1f%%',explode = myexplode,shadow = True,colors = ( \"lightgreen\", \"Red\"))\n",
    "plt.title(\"Has Someone in your Household been Tested for Coronavirus?\")\n",
    "plt.legend()\n",
    "plt.show() "
   ]
  },
  {
   "cell_type": "code",
   "execution_count": 25,
   "id": "UTegulAOcnL6",
   "metadata": {
    "id": "UTegulAOcnL6"
   },
   "outputs": [],
   "source": [
    "# string to numeric value conversion\n",
    "covid['i4_health'].replace(['Yes, and they tested negative', 'Yes, and they tested positive'],\n",
    "                        [0, 1], inplace=True)"
   ]
  },
  {
   "cell_type": "code",
   "execution_count": 26,
   "id": "HPEMtbQacnOc",
   "metadata": {
    "colab": {
     "base_uri": "https://localhost:8080/"
    },
    "id": "HPEMtbQacnOc",
    "outputId": "39cd3999-9119-4eca-ef78-ee15ffc96dbc"
   },
   "outputs": [
    {
     "data": {
      "text/plain": [
       "0    884\n",
       "1    184\n",
       "Name: i4_health, dtype: int64"
      ]
     },
     "execution_count": 26,
     "metadata": {},
     "output_type": "execute_result"
    }
   ],
   "source": [
    "covid['i4_health'].value_counts()"
   ]
  },
  {
   "cell_type": "code",
   "execution_count": 27,
   "id": "jLfEtHaccnSY",
   "metadata": {
    "id": "jLfEtHaccnSY"
   },
   "outputs": [],
   "source": [
    "# remove missing values in predictor variables\n",
    "covid.drop(covid[covid['i5_health_1'] == \" \"].index, inplace = True)\n",
    "covid.drop(covid[covid['i5_health_2'] == \" \"].index, inplace = True)\n",
    "covid.drop(covid[covid['i5_health_3'] == \" \"].index, inplace = True)\n",
    "covid.drop(covid[covid['i5_health_4'] == \" \"].index, inplace = True)\n",
    "covid.drop(covid[covid['i5_health_5'] == \" \"].index, inplace = True)\n",
    "covid.drop(covid[covid['i12_health_5'] == \" \"].index, inplace = True)"
   ]
  },
  {
   "cell_type": "code",
   "execution_count": 28,
   "id": "2OHdCzKxcnUU",
   "metadata": {
    "colab": {
     "base_uri": "https://localhost:8080/"
    },
    "id": "2OHdCzKxcnUU",
    "outputId": "8dd507c9-d347-42a2-f2bf-a521d52697db"
   },
   "outputs": [
    {
     "data": {
      "text/plain": [
       "No     891\n",
       "Yes    157\n",
       "Name: i5_health_1, dtype: int64"
      ]
     },
     "execution_count": 28,
     "metadata": {},
     "output_type": "execute_result"
    }
   ],
   "source": [
    "covid['i5_health_1'].value_counts() #note all i5_health_# records have the same amount of missing values, so looking at the count for one of them is sufficient."
   ]
  },
  {
   "cell_type": "code",
   "execution_count": 29,
   "id": "suRYGinycnXG",
   "metadata": {
    "id": "suRYGinycnXG"
   },
   "outputs": [],
   "source": [
    "# string to int\n",
    "covid['i5_health_1'].replace(['No', 'Yes'],[0, 1], inplace=True)\n",
    "covid['i5_health_2'].replace(['No', 'Yes'],[0, 1], inplace=True)\n",
    "covid['i5_health_3'].replace(['No', 'Yes'],[0, 1], inplace=True)\n",
    "covid['i5_health_4'].replace(['No', 'Yes'],[0, 1], inplace=True)\n",
    "covid['i5_health_5'].replace(['No', 'Yes'],[0, 1], inplace=True)\n",
    "covid['i12_health_5'].replace(['No', 'Yes'],[0, 1], inplace=True)"
   ]
  },
  {
   "cell_type": "code",
   "execution_count": 32,
   "id": "ezF2dTSecndJ",
   "metadata": {
    "colab": {
     "base_uri": "https://localhost:8080/"
    },
    "id": "ezF2dTSecndJ",
    "outputId": "e242f0e5-0f0c-4729-b503-fdc73c76107e"
   },
   "outputs": [
    {
     "data": {
      "text/plain": [
       "Always        590\n",
       "Frequently    236\n",
       "Sometimes     144\n",
       "Rarely         40\n",
       "Not at all     38\n",
       "Name: i12_health_5, dtype: int64"
      ]
     },
     "execution_count": 32,
     "metadata": {},
     "output_type": "execute_result"
    }
   ],
   "source": [
    "covid['i12_health_5'].value_counts()"
   ]
  },
  {
   "cell_type": "code",
   "execution_count": 33,
   "id": "gM0VpalSq1A1",
   "metadata": {
    "colab": {
     "base_uri": "https://localhost:8080/",
     "height": 481
    },
    "id": "gM0VpalSq1A1",
    "outputId": "07982083-22fd-4c60-f688-202d2342248a"
   },
   "outputs": [
    {
     "data": {
      "image/png": "[encoded data removed]",
      "text/plain": [
       "<Figure size 864x576 with 1 Axes>"
      ]
     },
     "metadata": {},
     "output_type": "display_data"
    }
   ],
   "source": [
    "#pie chart depicting the percent of individuals who came into contact with infected individuals or those experiencing symptoms \n",
    "plt.figure(figsize=(12,8))\n",
    "plt.pie(covid['i12_health_5'].value_counts().values, labels =covid['i12_health_5'].value_counts().keys(), autopct='%1.1f%%',shadow = True)\n",
    "plt.title(\"Avoided Contact with People who have Symptoms or you Think may have been Exposed to Coronavirus\")\n",
    "plt.legend()\n",
    "plt.show() "
   ]
  },
  {
   "cell_type": "code",
   "execution_count": 35,
   "id": "wJh9BxvJnlfc",
   "metadata": {
    "id": "wJh9BxvJnlfc"
   },
   "outputs": [],
   "source": [
    "#Binning categories in predictor variable i12_health_5 to free up memory\n",
    "covid['i12_health_5'].replace(covid['i12_health_5'].unique().tolist(),\n",
    "                        [0, 1,2,3,4], inplace=True)"
   ]
  },
  {
   "cell_type": "code",
   "execution_count": 36,
   "id": "vkKdHH2xhgTs",
   "metadata": {
    "colab": {
     "base_uri": "https://localhost:8080/"
    },
    "id": "vkKdHH2xhgTs",
    "outputId": "c3bc77cd-ce0c-4a48-943c-dfe2b0354036"
   },
   "outputs": [
    {
     "data": {
      "text/plain": [
       "New York                                             192\n",
       "Ontario                                              124\n",
       "California                                           122\n",
       "Quebec / Québec                                       64\n",
       "Florida                                               54\n",
       "Texas                                                 46\n",
       "British Columbia / Colombie Britanique                38\n",
       "New Jersey                                            35\n",
       "Illinois                                              34\n",
       "Alberta                                               28\n",
       "Pennsylvania                                          28\n",
       "Georgia                                               24\n",
       "Ohio                                                  18\n",
       "Virginia                                              14\n",
       "Washington                                            14\n",
       "Arizona                                               12\n",
       "Colorado                                              12\n",
       "Michigan                                              11\n",
       "Mississippi                                           11\n",
       "Alabama                                               10\n",
       "Manitoba                                              10\n",
       "Kentucky                                               8\n",
       "North Carolina                                         8\n",
       "Wisconsin                                              8\n",
       "Newfoundland & Labrador / Terre-Neuve-et-Labrador      7\n",
       "Massachusetts                                          7\n",
       "Utah                                                   7\n",
       "Louisiana                                              7\n",
       "Connecticut                                            7\n",
       "Alaska                                                 7\n",
       "Kansas                                                 7\n",
       "South Carolina                                         6\n",
       "Tennessee                                              6\n",
       "Arkansas                                               5\n",
       "Maryland                                               5\n",
       "Nevada                                                 5\n",
       "Nova Scotia / Nouvelle-Écosse                          4\n",
       "West Virginia                                          4\n",
       "Oregon                                                 4\n",
       "Wyoming                                                4\n",
       "Missouri                                               4\n",
       "Maine                                                  3\n",
       "Delaware                                               3\n",
       "District of Columbia                                   3\n",
       "Indiana                                                3\n",
       "Minnesota                                              2\n",
       "Iowa                                                   2\n",
       "New Brunswick / Nouveau-Brunswick                      2\n",
       "Saskatchewan                                           2\n",
       "Idaho                                                  1\n",
       "New Mexico                                             1\n",
       "New Hampshire                                          1\n",
       "North Dakota                                           1\n",
       "Oklahoma                                               1\n",
       "Hawaii                                                 1\n",
       "Rhode Island                                           1\n",
       "Name: region_state, dtype: int64"
      ]
     },
     "execution_count": 36,
     "metadata": {},
     "output_type": "execute_result"
    }
   ],
   "source": [
    "#inspecting regions and states in the clean dataset\n",
    "covid['region_state'].value_counts()"
   ]
  },
  {
   "cell_type": "code",
   "execution_count": 38,
   "id": "wKMyWN_OhgW8",
   "metadata": {
    "colab": {
     "base_uri": "https://localhost:8080/",
     "height": 732
    },
    "id": "wKMyWN_OhgW8",
    "outputId": "5c078373-f8d7-48ce-da56-eebc9a821574"
   },
   "outputs": [
    {
     "data": {
      "image/png": "[encoded data removed]",
      "text/plain": [
       "<Figure size 1440x576 with 1 Axes>"
      ]
     },
     "metadata": {},
     "output_type": "display_data"
    }
   ],
   "source": [
    "#converting the above list of counts to a bar chart \n",
    "fig = plt.figure(figsize = (20, 8))\n",
    " \n",
    "# creating the bar plot\n",
    "plt.bar(covid['region_state'].value_counts().keys(), covid['region_state'].value_counts().values, color ='maroon',\n",
    "        width = 0.4)\n",
    "plt.xticks(rotation=90) \n",
    "plt.xlabel(\"Region/State\")\n",
    "plt.ylabel(\"No. of Individuals\")\n",
    "plt.title(\"Total Number of Individuals in each region/state\")\n",
    "plt.show()"
   ]
  },
  {
   "cell_type": "code",
   "execution_count": 39,
   "id": "MZqSIbf6vkh1",
   "metadata": {
    "colab": {
     "base_uri": "https://localhost:8080/"
    },
    "id": "MZqSIbf6vkh1",
    "outputId": "7d63ba2b-d192-4474-db57-3e07e12de4c4"
   },
   "outputs": [
    {
     "data": {
      "text/plain": [
       "RecordNo        object\n",
       "i3_health        int64\n",
       "i4_health        int64\n",
       "i5_health_1      int64\n",
       "i5_health_2      int64\n",
       "i5_health_3      int64\n",
       "i5_health_4      int64\n",
       "i5_health_5      int64\n",
       "i12_health_5     int64\n",
       "region_state    object\n",
       "dtype: object"
      ]
     },
     "execution_count": 39,
     "metadata": {},
     "output_type": "execute_result"
    }
   ],
   "source": [
    "#finally all data types are in int\n",
    "covid.dtypes"
   ]
  },
  {
   "cell_type": "code",
   "execution_count": 40,
   "id": "FCXaic0fuFnz",
   "metadata": {
    "colab": {
     "base_uri": "https://localhost:8080/"
    },
    "id": "FCXaic0fuFnz",
    "outputId": "78605eee-0c6d-4b26-9eb4-ecc733daafab"
   },
   "outputs": [
    {
     "data": {
      "text/plain": [
       "0.13549618320610687"
      ]
     },
     "execution_count": 40,
     "metadata": {},
     "output_type": "execute_result"
    }
   ],
   "source": [
    "#Probability of testing positive given someone in their household has covid\n",
    "covid.query('i3_health == 1 and i4_health == 1').shape[0]/len(covid)"
   ]
  },
  {
   "cell_type": "code",
   "execution_count": 42,
   "id": "4XWN8GHh6wUO",
   "metadata": {
    "colab": {
     "base_uri": "https://localhost:8080/"
    },
    "id": "4XWN8GHh6wUO",
    "outputId": "fc93709b-f31e-4729-8f43-f995f748512f"
   },
   "outputs": [
    {
     "data": {
      "text/plain": [
       "New York                                             50\n",
       "California                                           27\n",
       "Ontario                                              23\n",
       "Texas                                                18\n",
       "British Columbia / Colombie Britanique               15\n",
       "Florida                                               8\n",
       "Illinois                                              8\n",
       "Georgia                                               7\n",
       "Quebec / Québec                                       7\n",
       "New Jersey                                            6\n",
       "Pennsylvania                                          6\n",
       "Mississippi                                           5\n",
       "Alabama                                               5\n",
       "Ohio                                                  5\n",
       "Colorado                                              4\n",
       "Virginia                                              4\n",
       "Kansas                                                4\n",
       "Alaska                                                4\n",
       "Connecticut                                           4\n",
       "Missouri                                              3\n",
       "North Carolina                                        3\n",
       "Arkansas                                              3\n",
       "Arizona                                               3\n",
       "Massachusetts                                         2\n",
       "Manitoba                                              2\n",
       "Delaware                                              2\n",
       "Maine                                                 2\n",
       "Maryland                                              2\n",
       "South Carolina                                        2\n",
       "Michigan                                              1\n",
       "New Hampshire                                         1\n",
       "Oklahoma                                              1\n",
       "Louisiana                                             1\n",
       "Utah                                                  1\n",
       "New Mexico                                            1\n",
       "Newfoundland & Labrador / Terre-Neuve-et-Labrador     1\n",
       "Alberta                                               1\n",
       "Wisconsin                                             1\n",
       "Tennessee                                             1\n",
       "Washington                                            1\n",
       "Kentucky                                              1\n",
       "Name: region_state, dtype: int64"
      ]
     },
     "execution_count": 42,
     "metadata": {},
     "output_type": "execute_result"
    }
   ],
   "source": [
    "# No of individuals who tested positive for covid or have someone in their household who also tested positive by region/state\n",
    "covid.query('i3_health == 1 or i4_health == 1')['region_state'].value_counts()"
   ]
  },
  {
   "cell_type": "markdown",
   "id": "99f58e16",
   "metadata": {},
   "source": [
    "### Investigating Covid Test Results & Symptoms"
   ]
  },
  {
   "cell_type": "code",
   "execution_count": 44,
   "id": "gfj-pwmBuFsG",
   "metadata": {
    "colab": {
     "base_uri": "https://localhost:8080/"
    },
    "id": "gfj-pwmBuFsG",
    "outputId": "1be16614-d8cd-4262-e2ca-9551d10fabb5"
   },
   "outputs": [
    {
     "data": {
      "text/plain": [
       "New York                                             51\n",
       "Ontario                                              30\n",
       "Texas                                                18\n",
       "California                                           16\n",
       "British Columbia / Colombie Britanique               14\n",
       "Quebec / Québec                                      12\n",
       "New Jersey                                            8\n",
       "Georgia                                               8\n",
       "Illinois                                              8\n",
       "Alberta                                               7\n",
       "Pennsylvania                                          6\n",
       "Florida                                               6\n",
       "Virginia                                              5\n",
       "Washington                                            5\n",
       "Ohio                                                  5\n",
       "Alabama                                               4\n",
       "Kansas                                                4\n",
       "Mississippi                                           4\n",
       "South Carolina                                        2\n",
       "Utah                                                  2\n",
       "Kentucky                                              2\n",
       "Alaska                                                2\n",
       "Arkansas                                              2\n",
       "Arizona                                               2\n",
       "Colorado                                              2\n",
       "Wyoming                                               1\n",
       "Maine                                                 1\n",
       "Missouri                                              1\n",
       "New Mexico                                            1\n",
       "Connecticut                                           1\n",
       "Manitoba                                              1\n",
       "Wisconsin                                             1\n",
       "New Hampshire                                         1\n",
       "Oregon                                                1\n",
       "Massachusetts                                         1\n",
       "Delaware                                              1\n",
       "Newfoundland & Labrador / Terre-Neuve-et-Labrador     1\n",
       "Tennessee                                             1\n",
       "North Carolina                                        1\n",
       "Name: region_state, dtype: int64"
      ]
     },
     "execution_count": 44,
     "metadata": {},
     "output_type": "execute_result"
    }
   ],
   "source": [
    "# Number of people with a fever or dry cough in each region/state\n",
    "covid.query('i5_health_1 == 1 or i5_health_2 == 1')['region_state'].value_counts()"
   ]
  },
  {
   "cell_type": "code",
   "execution_count": 45,
   "id": "yjuWHnnIBe-n",
   "metadata": {
    "colab": {
     "base_uri": "https://localhost:8080/",
     "height": 669
    },
    "id": "yjuWHnnIBe-n",
    "outputId": "dd681aca-e3a7-43a7-fd6a-35ccf9f87e45"
   },
   "outputs": [
    {
     "data": {
      "image/png": "[encoded data removed]",
      "text/plain": [
       "<Figure size 1440x576 with 1 Axes>"
      ]
     },
     "metadata": {},
     "output_type": "display_data"
    }
   ],
   "source": [
    "#Number of people with a fever or dry cough in each state\n",
    "fig = plt.figure(figsize = (20, 8))\n",
    "stats = covid.query('i5_health_1 == 1 or i5_health_2 == 1')['region_state'].value_counts().head(10).keys()\n",
    "values = covid.query('i5_health_1 == 1 or i5_health_2 == 1')['region_state'].value_counts().head(10).values\n",
    " \n",
    "# creating the bar plot\n",
    "plt.bar(stats, values, width = 0.4)\n",
    "plt.xticks(rotation=90) \n",
    "plt.xlabel(\"Region/State\")\n",
    "plt.ylabel(\"No. of Individuals\")\n",
    "plt.title(\"Number of Individuals with Fever or Dry Cough Symptoms in each Region/State\")\n",
    "plt.show()"
   ]
  },
  {
   "cell_type": "code",
   "execution_count": 46,
   "id": "0k4Dn-1euFu3",
   "metadata": {
    "colab": {
     "base_uri": "https://localhost:8080/"
    },
    "id": "0k4Dn-1euFu3",
    "outputId": "6fb720f1-01a6-4aaf-e440-7445f6a80666"
   },
   "outputs": [
    {
     "data": {
      "text/plain": [
       "New York                                             63\n",
       "Ontario                                              34\n",
       "California                                           34\n",
       "Texas                                                18\n",
       "British Columbia / Colombie Britanique               17\n",
       "Illinois                                             15\n",
       "Florida                                              15\n",
       "New Jersey                                           15\n",
       "Quebec / Québec                                      11\n",
       "Ohio                                                 11\n",
       "Virginia                                              7\n",
       "Alabama                                               7\n",
       "Pennsylvania                                          6\n",
       "Mississippi                                           6\n",
       "Alberta                                               5\n",
       "Arkansas                                              5\n",
       "Arizona                                               4\n",
       "Newfoundland & Labrador / Terre-Neuve-et-Labrador     4\n",
       "Washington                                            3\n",
       "Georgia                                               3\n",
       "Connecticut                                           3\n",
       "Manitoba                                              3\n",
       "Alaska                                                3\n",
       "Massachusetts                                         2\n",
       "Michigan                                              2\n",
       "Colorado                                              2\n",
       "Kansas                                                2\n",
       "Delaware                                              2\n",
       "Missouri                                              2\n",
       "Maine                                                 2\n",
       "South Carolina                                        2\n",
       "Maryland                                              2\n",
       "Louisiana                                             2\n",
       "Nova Scotia / Nouvelle-Écosse                         2\n",
       "Minnesota                                             1\n",
       "Tennessee                                             1\n",
       "Wisconsin                                             1\n",
       "North Carolina                                        1\n",
       "New Hampshire                                         1\n",
       "Oklahoma                                              1\n",
       "Kentucky                                              1\n",
       "Utah                                                  1\n",
       "Name: region_state, dtype: int64"
      ]
     },
     "execution_count": 46,
     "metadata": {},
     "output_type": "execute_result"
    }
   ],
   "source": [
    "# Number of people with Loss of sense of smell,taste, shortness of breath or difficulty breathing in each region/state\n",
    "covid.query('i5_health_3 == 1 or i5_health_4 == 1 or i5_health_5 == 1')['region_state'].value_counts()"
   ]
  },
  {
   "cell_type": "code",
   "execution_count": 48,
   "id": "LMsRlLH__S9g",
   "metadata": {
    "colab": {
     "base_uri": "https://localhost:8080/",
     "height": 669
    },
    "id": "LMsRlLH__S9g",
    "outputId": "307c26bc-a6a9-453d-dd9a-82de7faba1f8"
   },
   "outputs": [
    {
     "data": {
      "image/png": "[encoded data removed]",
      "text/plain": [
       "<Figure size 1440x576 with 1 Axes>"
      ]
     },
     "metadata": {},
     "output_type": "display_data"
    }
   ],
   "source": [
    "\n",
    "fig = plt.figure(figsize = (20, 8))\n",
    "stats = covid.query('i5_health_3 == 1 or i5_health_4 == 1 or i5_health_5 == 1')['region_state'].value_counts().head(10).keys()\n",
    "values = covid.query('i5_health_3 == 1 or i5_health_4 == 1 or i5_health_5 == 1')['region_state'].value_counts().head(10).values\n",
    " \n",
    "# creating the bar plot\n",
    "plt.bar(stats,values,width = 0.4)\n",
    "plt.xticks(rotation=90) \n",
    "plt.xlabel(\"Region/State\")\n",
    "plt.ylabel(\"No. of Individuals\")\n",
    "plt.title(\"Number of Individuals Experiencing Covid Symptoms in each Region/State\")\n",
    "plt.show()"
   ]
  },
  {
   "cell_type": "code",
   "execution_count": 49,
   "id": "1foqvP3owy5H",
   "metadata": {
    "colab": {
     "base_uri": "https://localhost:8080/"
    },
    "id": "1foqvP3owy5H",
    "outputId": "9da91904-2743-4319-b7fd-1151258ae4a3"
   },
   "outputs": [
    {
     "data": {
      "text/plain": [
       "0.413716814159292"
      ]
     },
     "execution_count": 49,
     "metadata": {},
     "output_type": "execute_result"
    }
   ],
   "source": [
    "# probability of testing positive given individual is experiencing symptoms.\n",
    "covid.query('i5_health_1 == 1 or i5_health_2 == 1 or i5_health_3 == 1or i5_health_4 == 1 or i5_health_5 == 1')['i3_health'].mean()"
   ]
  },
  {
   "cell_type": "code",
   "execution_count": 51,
   "id": "99jQx7VJwy8a",
   "metadata": {
    "colab": {
     "base_uri": "https://localhost:8080/",
     "height": 481
    },
    "id": "99jQx7VJwy8a",
    "outputId": "2f2d5343-ed76-4c41-b357-dfeab45b3a0d"
   },
   "outputs": [
    {
     "data": {
      "image/png": "[encoded data removed]",
      "text/plain": [
       "<Figure size 864x576 with 1 Axes>"
      ]
     },
     "metadata": {},
     "output_type": "display_data"
    }
   ],
   "source": [
    "plt.figure(figsize=(12,8))\n",
    "values = covid.query('i5_health_1 == 1 or i5_health_2 == 1 or i5_health_3 == 1or i5_health_4 == 1 or i5_health_5 == 1')['i3_health'].value_counts().values\n",
    "labels  = [ 'Tested Negative', 'Tested Positive']\n",
    "plt.pie(values, labels =labels, autopct='%1.1f%%',shadow = True,colors = ( \"lightgreen\", \"Red\"))\n",
    "plt.title(\"Covid Test Results for Individuals Experiencing Symptoms\") #shows that in the dataset, not everyone who experiencing symptoms tested positive\n",
    "plt.legend()\n",
    "plt.show() "
   ]
  },
  {
   "cell_type": "code",
   "execution_count": 54,
   "id": "098OwFxP_TAN",
   "metadata": {
    "id": "098OwFxP_TAN"
   },
   "outputs": [],
   "source": [
    "heat_covid = covid[['i3_health','i4_health', 'i5_health_1', 'i5_health_2', 'i5_health_3', 'i5_health_4', 'i5_health_5','i12_health_5']]"
   ]
  },
  {
   "cell_type": "code",
   "execution_count": 55,
   "id": "UkmqBq35_TGb",
   "metadata": {
    "colab": {
     "base_uri": "https://localhost:8080/",
     "height": 300
    },
    "id": "UkmqBq35_TGb",
    "outputId": "e4d4f6ef-6099-4eec-c3b9-2c7913ebf8f0"
   },
   "outputs": [
    {
     "data": {
      "text/html": [
       "<div>\n",
       "<style scoped>\n",
       "    .dataframe tbody tr th:only-of-type {\n",
       "        vertical-align: middle;\n",
       "    }\n",
       "\n",
       "    .dataframe tbody tr th {\n",
       "        vertical-align: top;\n",
       "    }\n",
       "\n",
       "    .dataframe thead th {\n",
       "        text-align: right;\n",
       "    }\n",
       "</style>\n",
       "<table border=\"1\" class=\"dataframe\">\n",
       "  <thead>\n",
       "    <tr style=\"text-align: right;\">\n",
       "      <th></th>\n",
       "      <th>i3_health</th>\n",
       "      <th>i4_health</th>\n",
       "      <th>i5_health_1</th>\n",
       "      <th>i5_health_2</th>\n",
       "      <th>i5_health_3</th>\n",
       "      <th>i5_health_4</th>\n",
       "      <th>i5_health_5</th>\n",
       "      <th>i12_health_5</th>\n",
       "    </tr>\n",
       "  </thead>\n",
       "  <tbody>\n",
       "    <tr>\n",
       "      <th>i3_health</th>\n",
       "      <td>1.000000</td>\n",
       "      <td>0.673681</td>\n",
       "      <td>0.281988</td>\n",
       "      <td>0.263483</td>\n",
       "      <td>0.283141</td>\n",
       "      <td>0.346659</td>\n",
       "      <td>0.294661</td>\n",
       "      <td>-0.071119</td>\n",
       "    </tr>\n",
       "    <tr>\n",
       "      <th>i4_health</th>\n",
       "      <td>0.673681</td>\n",
       "      <td>1.000000</td>\n",
       "      <td>0.275043</td>\n",
       "      <td>0.246850</td>\n",
       "      <td>0.195296</td>\n",
       "      <td>0.282142</td>\n",
       "      <td>0.258210</td>\n",
       "      <td>-0.074110</td>\n",
       "    </tr>\n",
       "    <tr>\n",
       "      <th>i5_health_1</th>\n",
       "      <td>0.281988</td>\n",
       "      <td>0.275043</td>\n",
       "      <td>1.000000</td>\n",
       "      <td>0.193901</td>\n",
       "      <td>0.141459</td>\n",
       "      <td>0.176389</td>\n",
       "      <td>0.223677</td>\n",
       "      <td>0.025959</td>\n",
       "    </tr>\n",
       "    <tr>\n",
       "      <th>i5_health_2</th>\n",
       "      <td>0.263483</td>\n",
       "      <td>0.246850</td>\n",
       "      <td>0.193901</td>\n",
       "      <td>1.000000</td>\n",
       "      <td>0.120227</td>\n",
       "      <td>0.177474</td>\n",
       "      <td>0.219851</td>\n",
       "      <td>-0.038663</td>\n",
       "    </tr>\n",
       "    <tr>\n",
       "      <th>i5_health_3</th>\n",
       "      <td>0.283141</td>\n",
       "      <td>0.195296</td>\n",
       "      <td>0.141459</td>\n",
       "      <td>0.120227</td>\n",
       "      <td>1.000000</td>\n",
       "      <td>0.211779</td>\n",
       "      <td>0.173699</td>\n",
       "      <td>-0.085570</td>\n",
       "    </tr>\n",
       "    <tr>\n",
       "      <th>i5_health_4</th>\n",
       "      <td>0.346659</td>\n",
       "      <td>0.282142</td>\n",
       "      <td>0.176389</td>\n",
       "      <td>0.177474</td>\n",
       "      <td>0.211779</td>\n",
       "      <td>1.000000</td>\n",
       "      <td>0.243257</td>\n",
       "      <td>-0.026393</td>\n",
       "    </tr>\n",
       "    <tr>\n",
       "      <th>i5_health_5</th>\n",
       "      <td>0.294661</td>\n",
       "      <td>0.258210</td>\n",
       "      <td>0.223677</td>\n",
       "      <td>0.219851</td>\n",
       "      <td>0.173699</td>\n",
       "      <td>0.243257</td>\n",
       "      <td>1.000000</td>\n",
       "      <td>0.019566</td>\n",
       "    </tr>\n",
       "    <tr>\n",
       "      <th>i12_health_5</th>\n",
       "      <td>-0.071119</td>\n",
       "      <td>-0.074110</td>\n",
       "      <td>0.025959</td>\n",
       "      <td>-0.038663</td>\n",
       "      <td>-0.085570</td>\n",
       "      <td>-0.026393</td>\n",
       "      <td>0.019566</td>\n",
       "      <td>1.000000</td>\n",
       "    </tr>\n",
       "  </tbody>\n",
       "</table>\n",
       "</div>"
      ],
      "text/plain": [
       "              i3_health  i4_health  i5_health_1  i5_health_2  i5_health_3  \\\n",
       "i3_health      1.000000   0.673681     0.281988     0.263483     0.283141   \n",
       "i4_health      0.673681   1.000000     0.275043     0.246850     0.195296   \n",
       "i5_health_1    0.281988   0.275043     1.000000     0.193901     0.141459   \n",
       "i5_health_2    0.263483   0.246850     0.193901     1.000000     0.120227   \n",
       "i5_health_3    0.283141   0.195296     0.141459     0.120227     1.000000   \n",
       "i5_health_4    0.346659   0.282142     0.176389     0.177474     0.211779   \n",
       "i5_health_5    0.294661   0.258210     0.223677     0.219851     0.173699   \n",
       "i12_health_5  -0.071119  -0.074110     0.025959    -0.038663    -0.085570   \n",
       "\n",
       "              i5_health_4  i5_health_5  i12_health_5  \n",
       "i3_health        0.346659     0.294661     -0.071119  \n",
       "i4_health        0.282142     0.258210     -0.074110  \n",
       "i5_health_1      0.176389     0.223677      0.025959  \n",
       "i5_health_2      0.177474     0.219851     -0.038663  \n",
       "i5_health_3      0.211779     0.173699     -0.085570  \n",
       "i5_health_4      1.000000     0.243257     -0.026393  \n",
       "i5_health_5      0.243257     1.000000      0.019566  \n",
       "i12_health_5    -0.026393     0.019566      1.000000  "
      ]
     },
     "execution_count": 55,
     "metadata": {},
     "output_type": "execute_result"
    }
   ],
   "source": [
    "# correlation table\n",
    "heat_covid.corr()"
   ]
  },
  {
   "cell_type": "code",
   "execution_count": 56,
   "id": "Dp-ANovMhgZY",
   "metadata": {
    "colab": {
     "base_uri": "https://localhost:8080/",
     "height": 483
    },
    "id": "Dp-ANovMhgZY",
    "outputId": "35631234-ccaf-4ace-af2a-20c6e60feac4"
   },
   "outputs": [
    {
     "data": {
      "image/png": "[encoded data removed]",
      "text/plain": [
       "<Figure size 792x576 with 2 Axes>"
      ]
     },
     "metadata": {},
     "output_type": "display_data"
    }
   ],
   "source": [
    "#visualization of above correlation matrix\n",
    "corr = heat_covid.corr()\n",
    "plt.figure(figsize=(11,8))\n",
    "sns.heatmap(corr, cmap=\"coolwarm\",annot=True)\n",
    "plt.show()"
   ]
  },
  {
   "cell_type": "markdown",
   "id": "aaafccc4",
   "metadata": {},
   "source": [
    "### Entering Model Development Stage"
   ]
  },
  {
   "cell_type": "code",
   "execution_count": 59,
   "id": "ItaeLe1fkL1d",
   "metadata": {
    "id": "ItaeLe1fkL1d"
   },
   "outputs": [],
   "source": [
    "covid.rename(columns = {'i3_health':'Target'}, inplace = True)"
   ]
  },
  {
   "cell_type": "code",
   "execution_count": 60,
   "id": "46s2oWF7hgcs",
   "metadata": {
    "id": "46s2oWF7hgcs"
   },
   "outputs": [],
   "source": [
    "#selecting features  \n",
    "X = covid[['i4_health', 'i5_health_1', 'i5_health_2', 'i5_health_3', 'i5_health_4', 'i5_health_5','i12_health_5']]"
   ]
  },
  {
   "cell_type": "code",
   "execution_count": 61,
   "id": "Q75r1RHBmfav",
   "metadata": {
    "id": "Q75r1RHBmfav"
   },
   "outputs": [],
   "source": [
    "y= covid['Target']"
   ]
  },
  {
   "cell_type": "code",
   "execution_count": 62,
   "id": "3YH-zP2qmk6e",
   "metadata": {
    "id": "3YH-zP2qmk6e"
   },
   "outputs": [],
   "source": [
    "X_train, X_test, y_train, y_test = train_test_split(X, y, random_state=0, train_size = .80)"
   ]
  },
  {
   "cell_type": "code",
   "execution_count": 63,
   "id": "QBRk8nAmtcDg",
   "metadata": {
    "id": "QBRk8nAmtcDg"
   },
   "outputs": [],
   "source": [
    "# import the KNeighborsClassifier module\n",
    "from sklearn.neighbors import KNeighborsClassifier"
   ]
  },
  {
   "cell_type": "code",
   "execution_count": 64,
   "id": "SwuduN5DdtEs",
   "metadata": {
    "id": "SwuduN5DdtEs"
   },
   "outputs": [],
   "source": [
    "knn = KNeighborsClassifier()"
   ]
  },
  {
   "cell_type": "code",
   "execution_count": 65,
   "id": "w5ePdg3GtcGA",
   "metadata": {
    "colab": {
     "base_uri": "https://localhost:8080/"
    },
    "id": "w5ePdg3GtcGA",
    "outputId": "ed80c8c5-e1a6-495d-f198-2276650b4268"
   },
   "outputs": [
    {
     "name": "stdout",
     "output_type": "stream",
     "text": [
      "Number of total cases in training set: 838\n",
      "Number of positive cases in training set: 164\n",
      "Number of negative cases in training set: 674\n",
      "\n",
      "Number of total cases in test set: 210\n",
      "Number of positive cases in test set: 43\n",
      "Number of negative cases in test set: 167\n"
     ]
    }
   ],
   "source": [
    "print(\"Number of total cases in training set: %d\" % y_train.shape)\n",
    "print(\"Number of positive cases in training set: %d\" % (y_train == 1).sum(axis=0))\n",
    "print(\"Number of negative cases in training set: %d\" % (y_train == 0).sum(axis=0))\n",
    "print()\n",
    "print(\"Number of total cases in test set: %d\" % y_test.shape)\n",
    "print(\"Number of positive cases in test set: %d\" % (y_test == 1).sum(axis=0))\n",
    "print(\"Number of negative cases in test set: %d\" % (y_test == 0).sum(axis=0))"
   ]
  },
  {
   "cell_type": "markdown",
   "id": "sbXElbprbZ1r",
   "metadata": {
    "id": "sbXElbprbZ1r"
   },
   "source": [
    "#### Hyperparameter Tuning\n",
    "\n",
    "Using Grid Search Cross Validation technique to choose the optimal hyperparameters (n_neighbors) that yield the best possible performance."
   ]
  },
  {
   "cell_type": "code",
   "execution_count": 66,
   "id": "pFqTrbpVtcJm",
   "metadata": {
    "id": "pFqTrbpVtcJm"
   },
   "outputs": [],
   "source": [
    "from sklearn.model_selection import GridSearchCV"
   ]
  },
  {
   "cell_type": "code",
   "execution_count": 67,
   "id": "H7YkmLystcNt",
   "metadata": {
    "id": "H7YkmLystcNt"
   },
   "outputs": [],
   "source": [
    "# assigning the dictionary of variables whose optimal value is to be retrieved\n",
    "param_grid = {'n_neighbors' : np.arange(1,50)}"
   ]
  },
  {
   "cell_type": "code",
   "execution_count": 69,
   "id": "Klf_OclqtcRH",
   "metadata": {
    "id": "Klf_OclqtcRH"
   },
   "outputs": [],
   "source": [
    "# performing Grid Search CV on knn-model, using 5-cross folds for validation of each criterion\n",
    "knn_cv = GridSearchCV(knn, param_grid, cv=5)"
   ]
  },
  {
   "cell_type": "code",
   "execution_count": 70,
   "id": "K7bLFGQxtcTi",
   "metadata": {
    "colab": {
     "base_uri": "https://localhost:8080/"
    },
    "id": "K7bLFGQxtcTi",
    "outputId": "ddb54b4b-3aa0-4d39-e697-efa5ae344ec7"
   },
   "outputs": [
    {
     "data": {
      "text/html": [
       "<style>#sk-container-id-1 {color: black;background-color: white;}#sk-container-id-1 pre{padding: 0;}#sk-container-id-1 div.sk-toggleable {background-color: white;}#sk-container-id-1 label.sk-toggleable__label {cursor: pointer;display: block;width: 100%;margin-bottom: 0;padding: 0.3em;box-sizing: border-box;text-align: center;}#sk-container-id-1 label.sk-toggleable__label-arrow:before {content: \"▸\";float: left;margin-right: 0.25em;color: #696969;}#sk-container-id-1 label.sk-toggleable__label-arrow:hover:before {color: black;}#sk-container-id-1 div.sk-estimator:hover label.sk-toggleable__label-arrow:before {color: black;}#sk-container-id-1 div.sk-toggleable__content {max-height: 0;max-width: 0;overflow: hidden;text-align: left;background-color: #f0f8ff;}#sk-container-id-1 div.sk-toggleable__content pre {margin: 0.2em;color: black;border-radius: 0.25em;background-color: #f0f8ff;}#sk-container-id-1 input.sk-toggleable__control:checked~div.sk-toggleable__content {max-height: 200px;max-width: 100%;overflow: auto;}#sk-container-id-1 input.sk-toggleable__control:checked~label.sk-toggleable__label-arrow:before {content: \"▾\";}#sk-container-id-1 div.sk-estimator input.sk-toggleable__control:checked~label.sk-toggleable__label {background-color: #d4ebff;}#sk-container-id-1 div.sk-label input.sk-toggleable__control:checked~label.sk-toggleable__label {background-color: #d4ebff;}#sk-container-id-1 input.sk-hidden--visually {border: 0;clip: rect(1px 1px 1px 1px);clip: rect(1px, 1px, 1px, 1px);height: 1px;margin: -1px;overflow: hidden;padding: 0;position: absolute;width: 1px;}#sk-container-id-1 div.sk-estimator {font-family: monospace;background-color: #f0f8ff;border: 1px dotted black;border-radius: 0.25em;box-sizing: border-box;margin-bottom: 0.5em;}#sk-container-id-1 div.sk-estimator:hover {background-color: #d4ebff;}#sk-container-id-1 div.sk-parallel-item::after {content: \"\";width: 100%;border-bottom: 1px solid gray;flex-grow: 1;}#sk-container-id-1 div.sk-label:hover label.sk-toggleable__label {background-color: #d4ebff;}#sk-container-id-1 div.sk-serial::before {content: \"\";position: absolute;border-left: 1px solid gray;box-sizing: border-box;top: 0;bottom: 0;left: 50%;z-index: 0;}#sk-container-id-1 div.sk-serial {display: flex;flex-direction: column;align-items: center;background-color: white;padding-right: 0.2em;padding-left: 0.2em;position: relative;}#sk-container-id-1 div.sk-item {position: relative;z-index: 1;}#sk-container-id-1 div.sk-parallel {display: flex;align-items: stretch;justify-content: center;background-color: white;position: relative;}#sk-container-id-1 div.sk-item::before, #sk-container-id-1 div.sk-parallel-item::before {content: \"\";position: absolute;border-left: 1px solid gray;box-sizing: border-box;top: 0;bottom: 0;left: 50%;z-index: -1;}#sk-container-id-1 div.sk-parallel-item {display: flex;flex-direction: column;z-index: 1;position: relative;background-color: white;}#sk-container-id-1 div.sk-parallel-item:first-child::after {align-self: flex-end;width: 50%;}#sk-container-id-1 div.sk-parallel-item:last-child::after {align-self: flex-start;width: 50%;}#sk-container-id-1 div.sk-parallel-item:only-child::after {width: 0;}#sk-container-id-1 div.sk-dashed-wrapped {border: 1px dashed gray;margin: 0 0.4em 0.5em 0.4em;box-sizing: border-box;padding-bottom: 0.4em;background-color: white;}#sk-container-id-1 div.sk-label label {font-family: monospace;font-weight: bold;display: inline-block;line-height: 1.2em;}#sk-container-id-1 div.sk-label-container {text-align: center;}#sk-container-id-1 div.sk-container {/* jupyter's `normalize.less` sets `[hidden] { display: none; }` but bootstrap.min.css set `[hidden] { display: none !important; }` so we also need the `!important` here to be able to override the default hidden behavior on the sphinx rendered scikit-learn.org. See: https://github.com/scikit-learn/scikit-learn/issues/21755 */display: inline-block !important;position: relative;}#sk-container-id-1 div.sk-text-repr-fallback {display: none;}</style><div id=\"sk-container-id-1\" class=\"sk-top-container\"><div class=\"sk-text-repr-fallback\"><pre>GridSearchCV(cv=5, estimator=KNeighborsClassifier(),\n",
       "             param_grid={&#x27;n_neighbors&#x27;: array([ 1,  2,  3,  4,  5,  6,  7,  8,  9, 10, 11, 12, 13, 14, 15, 16, 17,\n",
       "       18, 19, 20, 21, 22, 23, 24, 25, 26, 27, 28, 29, 30, 31, 32, 33, 34,\n",
       "       35, 36, 37, 38, 39, 40, 41, 42, 43, 44, 45, 46, 47, 48, 49])})</pre><b>In a Jupyter environment, please rerun this cell to show the HTML representation or trust the notebook. <br />On GitHub, the HTML representation is unable to render, please try loading this page with nbviewer.org.</b></div><div class=\"sk-container\" hidden><div class=\"sk-item sk-dashed-wrapped\"><div class=\"sk-label-container\"><div class=\"sk-label sk-toggleable\"><input class=\"sk-toggleable__control sk-hidden--visually\" id=\"sk-estimator-id-1\" type=\"checkbox\" ><label for=\"sk-estimator-id-1\" class=\"sk-toggleable__label sk-toggleable__label-arrow\">GridSearchCV</label><div class=\"sk-toggleable__content\"><pre>GridSearchCV(cv=5, estimator=KNeighborsClassifier(),\n",
       "             param_grid={&#x27;n_neighbors&#x27;: array([ 1,  2,  3,  4,  5,  6,  7,  8,  9, 10, 11, 12, 13, 14, 15, 16, 17,\n",
       "       18, 19, 20, 21, 22, 23, 24, 25, 26, 27, 28, 29, 30, 31, 32, 33, 34,\n",
       "       35, 36, 37, 38, 39, 40, 41, 42, 43, 44, 45, 46, 47, 48, 49])})</pre></div></div></div><div class=\"sk-parallel\"><div class=\"sk-parallel-item\"><div class=\"sk-item\"><div class=\"sk-label-container\"><div class=\"sk-label sk-toggleable\"><input class=\"sk-toggleable__control sk-hidden--visually\" id=\"sk-estimator-id-2\" type=\"checkbox\" ><label for=\"sk-estimator-id-2\" class=\"sk-toggleable__label sk-toggleable__label-arrow\">estimator: KNeighborsClassifier</label><div class=\"sk-toggleable__content\"><pre>KNeighborsClassifier()</pre></div></div></div><div class=\"sk-serial\"><div class=\"sk-item\"><div class=\"sk-estimator sk-toggleable\"><input class=\"sk-toggleable__control sk-hidden--visually\" id=\"sk-estimator-id-3\" type=\"checkbox\" ><label for=\"sk-estimator-id-3\" class=\"sk-toggleable__label sk-toggleable__label-arrow\">KNeighborsClassifier</label><div class=\"sk-toggleable__content\"><pre>KNeighborsClassifier()</pre></div></div></div></div></div></div></div></div></div></div>"
      ],
      "text/plain": [
       "GridSearchCV(cv=5, estimator=KNeighborsClassifier(),\n",
       "             param_grid={'n_neighbors': array([ 1,  2,  3,  4,  5,  6,  7,  8,  9, 10, 11, 12, 13, 14, 15, 16, 17,\n",
       "       18, 19, 20, 21, 22, 23, 24, 25, 26, 27, 28, 29, 30, 31, 32, 33, 34,\n",
       "       35, 36, 37, 38, 39, 40, 41, 42, 43, 44, 45, 46, 47, 48, 49])})"
      ]
     },
     "execution_count": 70,
     "metadata": {},
     "output_type": "execute_result"
    }
   ],
   "source": [
    "# training the model using best parameters\n",
    "knn_cv.fit(X_train,y_train)"
   ]
  },
  {
   "cell_type": "code",
   "execution_count": 71,
   "id": "fIwqZ1LntcXD",
   "metadata": {
    "colab": {
     "base_uri": "https://localhost:8080/"
    },
    "id": "fIwqZ1LntcXD",
    "outputId": "252d4c59-1572-4094-a631-f260e7be2953"
   },
   "outputs": [
    {
     "name": "stdout",
     "output_type": "stream",
     "text": [
      "The best paramter is: {'n_neighbors': 13}\n",
      "The best score achieved is: 0.893783860849729\n"
     ]
    }
   ],
   "source": [
    "#printing the results from Grid Search CV\n",
    "print(\"The best paramter is: {}\" .format(knn_cv.best_params_))\n",
    "\n",
    "# the best score the chosen parameter achieved\n",
    "print(\"The best score achieved is: {}\" .format(knn_cv.best_score_))"
   ]
  },
  {
   "cell_type": "code",
   "execution_count": 72,
   "id": "mNpF9USuKOO4",
   "metadata": {
    "id": "mNpF9USuKOO4"
   },
   "outputs": [],
   "source": [
    "# predicting values using the testing data set\n",
    "y_pred = knn_cv.predict(X_test)"
   ]
  },
  {
   "cell_type": "code",
   "execution_count": 74,
   "id": "Ya_nTzkAKOSN",
   "metadata": {
    "colab": {
     "base_uri": "https://localhost:8080/"
    },
    "id": "Ya_nTzkAKOSN",
    "outputId": "d4984738-33b6-417c-edce-84d6a4094dd8"
   },
   "outputs": [
    {
     "name": "stdout",
     "output_type": "stream",
     "text": [
      "Accuracy score for training set: 0.9009546539379475\n",
      "Accuracy score for test set: 0.9\n"
     ]
    }
   ],
   "source": [
    "# calculating the mean accuracy for the test data\n",
    "print(\"Accuracy score for training set: {}\" .format(knn_cv.score(X_train,y_train)))\n",
    "print(\"Accuracy score for test set: {}\" .format(knn_cv.score(X_test,y_test)))"
   ]
  },
  {
   "cell_type": "code",
   "execution_count": 75,
   "id": "d8t6v-m9KOWU",
   "metadata": {
    "id": "d8t6v-m9KOWU"
   },
   "outputs": [],
   "source": [
    "# performance metrics\n",
    "from sklearn.metrics import classification_report, confusion_matrix, plot_confusion_matrix"
   ]
  },
  {
   "cell_type": "code",
   "execution_count": 78,
   "id": "aH2zJe5sKOdX",
   "metadata": {
    "colab": {
     "base_uri": "https://localhost:8080/"
    },
    "id": "aH2zJe5sKOdX",
    "outputId": "4e9631ed-d0af-4ba2-aa80-a0b2201ffaeb"
   },
   "outputs": [
    {
     "name": "stdout",
     "output_type": "stream",
     "text": [
      "              precision    recall  f1-score   support\n",
      "\n",
      "           0       0.90      0.98      0.94       167\n",
      "           1       0.89      0.58      0.70        43\n",
      "\n",
      "    accuracy                           0.90       210\n",
      "   macro avg       0.90      0.78      0.82       210\n",
      "weighted avg       0.90      0.90      0.89       210\n",
      "\n",
      "[[164   3]\n",
      " [ 18  25]]\n"
     ]
    }
   ],
   "source": [
    "# classification report & confusion matrix\n",
    "print(classification_report(y_test, y_pred))\n",
    "print(confusion_matrix(y_test, y_pred))"
   ]
  },
  {
   "cell_type": "code",
   "execution_count": null,
   "id": "SdkKdxFdKOgY",
   "metadata": {
    "colab": {
     "base_uri": "https://localhost:8080/"
    },
    "id": "SdkKdxFdKOgY",
    "outputId": "e654b826-e9d9-493c-e6a1-69fc05533e7e"
   },
   "outputs": [],
   "source": [
    "\n"
   ]
  },
  {
   "cell_type": "code",
   "execution_count": null,
   "id": "h-JmP8SMagxt",
   "metadata": {
    "id": "h-JmP8SMagxt"
   },
   "outputs": [],
   "source": []
  },
  {
   "cell_type": "code",
   "execution_count": null,
   "id": "cx1BV0fXag01",
   "metadata": {
    "id": "cx1BV0fXag01"
   },
   "outputs": [],
   "source": []
  },
  {
   "cell_type": "code",
   "execution_count": null,
   "id": "97082601",
   "metadata": {},
   "outputs": [],
   "source": []
  }
 ],
 "metadata": {
  "colab": {
   "provenance": []
  },
  "kernelspec": {
   "display_name": "Python 3 (ipykernel)",
   "language": "python",
   "name": "python3"
  },
  "language_info": {
   "codemirror_mode": {
    "name": "ipython",
    "version": 3
   },
   "file_extension": ".py",
   "mimetype": "text/x-python",
   "name": "python",
   "nbconvert_exporter": "python",
   "pygments_lexer": "ipython3",
   "version": "3.9.7"
  }
 },
 "nbformat": 4,
 "nbformat_minor": 5
}
